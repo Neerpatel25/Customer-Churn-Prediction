{
  "nbformat": 4,
  "nbformat_minor": 0,
  "metadata": {
    "colab": {
      "provenance": [],
      "authorship_tag": "ABX9TyOjgIC0jeMwC11ezfvRTWv6",
      "include_colab_link": true
    },
    "kernelspec": {
      "name": "python3",
      "display_name": "Python 3"
    },
    "language_info": {
      "name": "python"
    }
  },
  "cells": [
    {
      "cell_type": "markdown",
      "metadata": {
        "id": "view-in-github",
        "colab_type": "text"
      },
      "source": [
        "<a href=\"https://colab.research.google.com/github/Neerpatel25/Customer-Churn-Prediction/blob/main/App.ipynb\" target=\"_parent\"><img src=\"https://colab.research.google.com/assets/colab-badge.svg\" alt=\"Open In Colab\"/></a>"
      ]
    },
    {
      "cell_type": "code",
      "execution_count": 1,
      "metadata": {
        "id": "-9A-CZKsBnm_"
      },
      "outputs": [],
      "source": [
        "import pandas as pd\n",
        "from sklearn.model_selection import train_test_split\n",
        "from sklearn.ensemble import RandomForestClassifier \n",
        "from sklearn import metrics\n",
        "from flask import Flask, request, render_template\n",
        "import pickle"
      ]
    },
    {
      "cell_type": "code",
      "source": [
        "from google.colab import drive\n",
        "drive.mount('/content/drive')"
      ],
      "metadata": {
        "colab": {
          "base_uri": "https://localhost:8080/"
        },
        "id": "OdY3Q1KdBo_z",
        "outputId": "af75b20f-d314-483c-b049-02b3ba30c169"
      },
      "execution_count": 2,
      "outputs": [
        {
          "output_type": "stream",
          "name": "stdout",
          "text": [
            "Mounted at /content/drive\n"
          ]
        }
      ]
    },
    {
      "cell_type": "code",
      "source": [
        "cd drive/"
      ],
      "metadata": {
        "colab": {
          "base_uri": "https://localhost:8080/"
        },
        "id": "6R6Z54nQB3PX",
        "outputId": "4c891d8b-1fca-4d43-ec04-bf3e2d939f16"
      },
      "execution_count": 3,
      "outputs": [
        {
          "output_type": "stream",
          "name": "stdout",
          "text": [
            "/content/drive\n"
          ]
        }
      ]
    },
    {
      "cell_type": "code",
      "source": [
        "cd MyDrive/"
      ],
      "metadata": {
        "colab": {
          "base_uri": "https://localhost:8080/"
        },
        "id": "f6j2WcCuB5bu",
        "outputId": "6cfdb5d9-66a3-4cee-be51-7ea432a50505"
      },
      "execution_count": 4,
      "outputs": [
        {
          "output_type": "stream",
          "name": "stdout",
          "text": [
            "/content/drive/MyDrive\n"
          ]
        }
      ]
    },
    {
      "cell_type": "code",
      "source": [
        "app = Flask(\"__name__\")\n",
        "\n",
        "df_1=pd.read_csv(\"first_telc.csv\")"
      ],
      "metadata": {
        "id": "p8GHrbStB70e"
      },
      "execution_count": 7,
      "outputs": []
    },
    {
      "cell_type": "code",
      "source": [
        "@app.route(\"/\")\n",
        "def loadPage():\n",
        "\treturn render_template('home.html', query=\"\")\n",
        "\n",
        "\n",
        "@app.route(\"/\", methods=['POST'])\n",
        "def predict():\n",
        "    \n",
        "    '''\n",
        "    SeniorCitizen\n",
        "    MonthlyCharges\n",
        "    TotalCharges\n",
        "    gender\n",
        "    Partner\n",
        "    Dependents\n",
        "    PhoneService\n",
        "    MultipleLines\n",
        "    InternetService\n",
        "    OnlineSecurity\n",
        "    OnlineBackup\n",
        "    DeviceProtection\n",
        "    TechSupport\n",
        "    StreamingTV\n",
        "    StreamingMovies\n",
        "    Contract\n",
        "    PaperlessBilling\n",
        "    PaymentMethod\n",
        "    tenure\n",
        "    '''\n",
        "    \n",
        "\n",
        "    \n",
        "    inputQuery1 = request.form['query1']\n",
        "    inputQuery2 = request.form['query2']\n",
        "    inputQuery3 = request.form['query3']\n",
        "    inputQuery4 = request.form['query4']\n",
        "    inputQuery5 = request.form['query5']\n",
        "    inputQuery6 = request.form['query6']\n",
        "    inputQuery7 = request.form['query7']\n",
        "    inputQuery8 = request.form['query8']\n",
        "    inputQuery9 = request.form['query9']\n",
        "    inputQuery10 = request.form['query10']\n",
        "    inputQuery11 = request.form['query11']\n",
        "    inputQuery12 = request.form['query12']\n",
        "    inputQuery13 = request.form['query13']\n",
        "    inputQuery14 = request.form['query14']\n",
        "    inputQuery15 = request.form['query15']\n",
        "    inputQuery16 = request.form['query16']\n",
        "    inputQuery17 = request.form['query17']\n",
        "    inputQuery18 = request.form['query18']\n",
        "    inputQuery19 = request.form['query19']\n",
        "\n",
        "    model = pickle.load(open(\"model.sav\", \"rb\"))\n",
        "    \n",
        "    data = [[inputQuery1, inputQuery2, inputQuery3, inputQuery4, inputQuery5, inputQuery6, inputQuery7, \n",
        "             inputQuery8, inputQuery9, inputQuery10, inputQuery11, inputQuery12, inputQuery13, inputQuery14,\n",
        "             inputQuery15, inputQuery16, inputQuery17, inputQuery18, inputQuery19]]\n",
        "    \n",
        "    new_df = pd.DataFrame(data, columns = ['SeniorCitizen', 'MonthlyCharges', 'TotalCharges', 'gender', \n",
        "                                           'Partner', 'Dependents', 'PhoneService', 'MultipleLines', 'InternetService',\n",
        "                                           'OnlineSecurity', 'OnlineBackup', 'DeviceProtection', 'TechSupport',\n",
        "                                           'StreamingTV', 'StreamingMovies', 'Contract', 'PaperlessBilling',\n",
        "                                           'PaymentMethod', 'tenure'])\n",
        "    \n",
        "    df_2 = pd.concat([df_1, new_df], ignore_index = True) \n",
        "    # Group the tenure in bins of 12 months\n",
        "    labels = [\"{0} - {1}\".format(i, i + 11) for i in range(1, 72, 12)]\n",
        "    \n",
        "    df_2['tenure_group'] = pd.cut(df_2.tenure.astype(int), range(1, 80, 12), right=False, labels=labels)\n",
        "    #drop column customerID and tenure\n",
        "    df_2.drop(columns= ['tenure'], axis=1, inplace=True)   \n",
        "    \n",
        "    \n",
        "    \n",
        "    \n",
        "    new_df__dummies = pd.get_dummies(df_2[['gender', 'SeniorCitizen', 'Partner', 'Dependents', 'PhoneService',\n",
        "           'MultipleLines', 'InternetService', 'OnlineSecurity', 'OnlineBackup',\n",
        "           'DeviceProtection', 'TechSupport', 'StreamingTV', 'StreamingMovies',\n",
        "           'Contract', 'PaperlessBilling', 'PaymentMethod','tenure_group']])\n",
        "    \n",
        "    \n",
        "    #final_df=pd.concat([new_df__dummies, new_dummy], axis=1)\n",
        "        \n",
        "    \n",
        "    single = model.predict(new_df__dummies.tail(1))\n",
        "    probablity = model.predict_proba(new_df__dummies.tail(1))[:,1]\n",
        "    \n",
        "    if single==1:\n",
        "        o1 = \"This customer is likely to be churned!!\"\n",
        "        o2 = \"Confidence: {}\".format(probablity*100)\n",
        "    else:\n",
        "        o1 = \"This customer is likely to continue!!\"\n",
        "        o2 = \"Confidence: {}\".format(probablity*100)\n",
        "        \n",
        "    return render_template('home.html', output1=o1, output2=o2, \n",
        "                           query1 = request.form['query1'], \n",
        "                           query2 = request.form['query2'],\n",
        "                           query3 = request.form['query3'],\n",
        "                           query4 = request.form['query4'],\n",
        "                           query5 = request.form['query5'], \n",
        "                           query6 = request.form['query6'], \n",
        "                           query7 = request.form['query7'], \n",
        "                           query8 = request.form['query8'], \n",
        "                           query9 = request.form['query9'], \n",
        "                           query10 = request.form['query10'], \n",
        "                           query11 = request.form['query11'], \n",
        "                           query12 = request.form['query12'], \n",
        "                           query13 = request.form['query13'], \n",
        "                           query14 = request.form['query14'], \n",
        "                           query15 = request.form['query15'], \n",
        "                           query16 = request.form['query16'], \n",
        "                           query17 = request.form['query17'],\n",
        "                           query18 = request.form['query18'], \n",
        "                           query19 = request.form['query19'])\n",
        "    \n",
        "app.run()"
      ],
      "metadata": {
        "colab": {
          "base_uri": "https://localhost:8080/"
        },
        "id": "eLQOmEIFB_uU",
        "outputId": "085f3662-c9c5-4089-940f-a9a9d2de5376"
      },
      "execution_count": 8,
      "outputs": [
        {
          "metadata": {
            "tags": null
          },
          "name": "stdout",
          "output_type": "stream",
          "text": [
            " * Serving Flask app \"__name__\" (lazy loading)\n",
            " * Environment: production\n",
            "\u001b[31m   WARNING: This is a development server. Do not use it in a production deployment.\u001b[0m\n",
            "\u001b[2m   Use a production WSGI server instead.\u001b[0m\n",
            " * Debug mode: off\n"
          ]
        },
        {
          "metadata": {
            "tags": null
          },
          "name": "stderr",
          "output_type": "stream",
          "text": [
            "INFO:werkzeug: * Running on http://127.0.0.1:5000/ (Press CTRL+C to quit)\n"
          ]
        }
      ]
    }
  ]
}